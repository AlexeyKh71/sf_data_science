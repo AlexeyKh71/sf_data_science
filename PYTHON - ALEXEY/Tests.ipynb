{
 "cells": [
  {
   "cell_type": "code",
   "execution_count": 1,
   "metadata": {},
   "outputs": [],
   "source": [
    "import pandas as pd\n",
    "import numpy as np\n",
    "import re \n",
    "import matplotlib.pyplot as plt\n",
    "import seaborn as sns\n",
    "import plotly.express as px\n",
    "import plotly.subplots as pl_subplots\n",
    "import plotly.graph_objects as pl_go"
   ]
  },
  {
   "cell_type": "code",
   "execution_count": 10,
   "metadata": {},
   "outputs": [],
   "source": [
    "phones_tas = pd.read_csv('data/Consumption_original.csv', encoding ='ISO-8859-1')\n",
    "\n",
    "\n",
    "\n"
   ]
  },
  {
   "cell_type": "code",
   "execution_count": 11,
   "metadata": {},
   "outputs": [],
   "source": [
    "phones_tas['PHONE_ORIGIN'] = phones_tas['PHONE_ORIGIN'].to_string().strip()[:14]\n",
    "phones_tas['PHONE_DESTINATION'] = phones_tas['PHONE_DESTINATION'].to_string().strip()[:20]\n",
    "phones_tas['Destination'] = phones_tas['Destination'].to_string().strip()[:40]\n"
   ]
  },
  {
   "cell_type": "code",
   "execution_count": 12,
   "metadata": {},
   "outputs": [],
   "source": [
    "phones_tas.to_csv('data/Consumption_new.csv', encoding ='ISO-8859-1')"
   ]
  }
 ],
 "metadata": {
  "kernelspec": {
   "display_name": "Python 3.10.4 64-bit",
   "language": "python",
   "name": "python3"
  },
  "language_info": {
   "codemirror_mode": {
    "name": "ipython",
    "version": 3
   },
   "file_extension": ".py",
   "mimetype": "text/x-python",
   "name": "python",
   "nbconvert_exporter": "python",
   "pygments_lexer": "ipython3",
   "version": "3.10.4"
  },
  "orig_nbformat": 4,
  "vscode": {
   "interpreter": {
    "hash": "e2b40fc04a291650ce5f2b3b569ee4e07b37dd3dc74bcc59577fc08c92379307"
   }
  }
 },
 "nbformat": 4,
 "nbformat_minor": 2
}
